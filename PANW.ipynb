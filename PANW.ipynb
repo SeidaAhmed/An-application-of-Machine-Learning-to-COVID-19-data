{
  "cells": [
    {
      "cell_type": "markdown",
      "metadata": {
        "id": "view-in-github",
        "colab_type": "text"
      },
      "source": [
        "<a href=\"https://colab.research.google.com/github/SeidaAhmed/An-application-of-Machine-Learning-to-COVID-19-data/blob/main/PANW.ipynb\" target=\"_parent\"><img src=\"https://colab.research.google.com/assets/colab-badge.svg\" alt=\"Open In Colab\"/></a>"
      ]
    },
    {
      "cell_type": "code",
      "execution_count": 84,
      "metadata": {
        "id": "ZLfvIE8EOF9p"
      },
      "outputs": [],
      "source": [
        "'''metrics_8k=[\n",
        "\"https://www.sec.gov/Archives/edgar/data/1327567/000132756725000006/ex991q225earningsrelease.htm\",\n",
        "\"https://www.sec.gov/Archives/edgar/data/1327567/000132756724000036/ex991q125earningsrelease.htm\",\n",
        "\"https://www.sec.gov/Archives/edgar/data/1327567/000132756724000023/ex991q424earningsrelease.htm\",\n",
        "\"https://www.sec.gov/Archives/edgar/data/1327567/000132756724000015/ex991q324earningsrelease.htm\",\n",
        "\"https://www.sec.gov/Archives/edgar/data/1327567/000132756724000003/ex991q224earningsrelease.htm\",\n",
        "\"https://www.sec.gov/Archives/edgar/data/1327567/000132756723000030/ex991q124earningsrelease.htm\",\n",
        "\"https://www.sec.gov/Archives/edgar/data/1327567/000132756723000020/ex991q423earningsrelease.htm\",\n",
        "\"https://www.sec.gov/Archives/edgar/data/1327567/000132756723000012/ex991q323earningsrelease.htm\",\n",
        "\"https://www.sec.gov/Archives/edgar/data/1327567/000132756723000005/ex991q223earningsrelease.htm\",\n",
        "\"https://www.sec.gov/Archives/edgar/data/1327567/000132756722000035/ex991q123earningsrelease.htm\",\n",
        "\"https://www.sec.gov/Archives/edgar/data/1327567/000132756722000020/ex991q422earningsrelease.htm\",\n",
        "\"https://www.sec.gov/Archives/edgar/data/1327567/000132756722000014/ex991q322earningsrelease.htm\",\n",
        "\"https://www.sec.gov/Archives/edgar/data/1327567/000132756722000006/ex991q222earningsrelease.htm\",\n",
        "\"https://www.sec.gov/Archives/edgar/data/1327567/000132756721000037/ex991q122earningsrelease.htm\",\n",
        "\"https://www.sec.gov/Archives/edgar/data/1327567/000132756721000020/ex991q421earningsrelease.htm\",\n",
        "\"https://www.sec.gov/Archives/edgar/data/1327567/000132756721000012/ex991q321earningsrelease.htm\",\n",
        "\"https://www.sec.gov/Archives/edgar/data/1327567/000162828021002659/ex991q221earningsrelease.htm\",\n",
        "\"https://www.sec.gov/Archives/edgar/data/1327567/000132756720000037/ex991q121earningsrelea.htm\",\n",
        "\"https://www.sec.gov/Archives/edgar/data/1327567/000132756720000025/ex991q420earningsrelea.htm\",\n",
        "\"https://www.sec.gov/Archives/edgar/data/1327567/000132756720000015/ex991q320earningsrelea.htm\",\n",
        "\"https://www.sec.gov/Archives/edgar/data/1327567/000132756720000002/ex991q220earningsrelease.htm\",\n",
        "\"https://www.sec.gov/Archives/edgar/data/1327567/000132756719000036/ex991q120earningsrelea.htm\",\n",
        "\"https://www.sec.gov/Archives/edgar/data/1327567/000132756719000023/ex991q419earningsrelease.htm\",\n",
        "\"https://www.sec.gov/Archives/edgar/data/1327567/000132756719000014/ex991q319earningsrelease.htm\",\n",
        "\"https://www.sec.gov/Archives/edgar/data/1327567/000132756719000006/ex991q219earningsrelease.htm\",\n",
        "\"https://www.sec.gov/Archives/edgar/data/1327567/000132756718000029/ex991q119earningsrelease.htm\",\n",
        "\"https://www.sec.gov/Archives/edgar/data/1327567/000132756718000018/ex991q418earningsrelease.htm\",\n",
        "\"https://www.sec.gov/Archives/edgar/data/1327567/000132756718000011/ex991june1newsrelease.htm\",\n",
        "\"https://www.sec.gov/Archives/edgar/data/1327567/000132756718000004/ex991q218earningsrelease.htm\",\n",
        "\"https://www.sec.gov/Archives/edgar/data/1327567/000132756717000032/ex991q118earningsrelease.htm\",\n",
        "\"https://www.sec.gov/Archives/edgar/data/1327567/000132756717000021/ex991q417earningsrelease.htm\",\n",
        "\"https://www.sec.gov/Archives/edgar/data/1327567/000132756717000016/ex991q317earningsrelease.htm\",\n",
        "\"https://www.sec.gov/Archives/edgar/data/1327567/000132756717000005/ex991q217earningsrelease.htm\",\n",
        "\"https://www.sec.gov/Archives/edgar/data/1327567/000132756716000071/ex991q117earningsrelease.htm\",\n",
        "\"https://www.sec.gov/Archives/edgar/data/1327567/000132756716000057/ex991q416earningsrelease.htm\",\n",
        "\"https://www.sec.gov/Archives/edgar/data/1327567/000132756716000051/ex991q316earningsrelease.htm\",\n",
        "\"https://www.sec.gov/Archives/edgar/data/1327567/000132756716000044/ex991q216earningsrelease.htm\",\n",
        "\"https://www.sec.gov/Archives/edgar/data/1327567/000132756715000033/ex991q116earningsrelease.htm\",\n",
        "\"https://www.sec.gov/Archives/edgar/data/1327567/000132756715000022/ex991q415earningsrelease.htm\",\n",
        "\"https://www.sec.gov/Archives/edgar/data/1327567/000132756715000015/ex991q315earningsrelease.htm\",\n",
        "\"https://www.sec.gov/Archives/edgar/data/1327567/000132756715000006/ex991q215earningsrelease.htm\",\n",
        "\"https://www.sec.gov/Archives/edgar/data/1327567/000132756714000040/ex991q115earningsrelease.htm\",\n",
        "\"https://www.sec.gov/Archives/edgar/data/1327567/000132756714000025/ex991q414earningsrelease.htm\",\n",
        "\"https://www.sec.gov/Archives/edgar/data/1327567/000119312514215060/d734043dex991.htm\",\n",
        "\"https://www.sec.gov/Archives/edgar/data/1327567/000119312514063754/d681045dex991.htm\",\n",
        "\"https://www.sec.gov/Archives/edgar/data/1327567/000132756713000033/ex-991.htm\",\n",
        "\"https://www.sec.gov/Archives/edgar/data/1327567/000119312513361421/d595340dex991.htm\",\n",
        "\"https://www.sec.gov/Archives/edgar/data/1327567/000119312513241542/d546594dex991.htm\",\n",
        "\"https://www.sec.gov/Archives/edgar/data/1327567/000119312513084193/d494278dex991.htm\",\n",
        "\"https://www.sec.gov/Archives/edgar/data/1327567/000119312512493700/d449771dex991.htm\",\n",
        "\"https://www.sec.gov/Archives/edgar/data/1327567/000119312512386605/d408809dex991.htm\"\n",
        "]'''\n",
        "\n",
        "metrics_8k=['https://www.sec.gov/Archives/edgar/data/1327567/000132756722000006/ex991q222earningsrelease.htm', 'https://www.sec.gov/Archives/edgar/data/1327567/000132756716000044/ex991q216earningsrelease.htm']\n",
        "\n",
        "\n",
        "#Next-Generation Security ARR Growth\n",
        "#Next-Generation Security ARR $ value\n",
        "# billings growth %\n",
        "# billings growth $\n"
      ]
    },
    {
      "cell_type": "markdown",
      "metadata": {
        "id": "coB_5a08PETP"
      },
      "source": [
        "Important imports"
      ]
    },
    {
      "cell_type": "code",
      "execution_count": 85,
      "metadata": {
        "colab": {
          "base_uri": "https://localhost:8080/"
        },
        "id": "TBr5AhLKPJsL",
        "outputId": "b82b0f50-278c-4e99-947e-de3e1e5906fb"
      },
      "outputs": [
        {
          "output_type": "stream",
          "name": "stderr",
          "text": [
            "[nltk_data] Downloading package maxent_treebank_pos_tagger to\n",
            "[nltk_data]     /root/nltk_data...\n",
            "[nltk_data]   Package maxent_treebank_pos_tagger is already up-to-\n",
            "[nltk_data]       date!\n",
            "[nltk_data] Error loading path: Package 'path' not found in index\n",
            "[nltk_data] Downloading package punkt to /root/nltk_data...\n",
            "[nltk_data]   Package punkt is already up-to-date!\n",
            "[nltk_data] Downloading package stopwords to /root/nltk_data...\n",
            "[nltk_data]   Package stopwords is already up-to-date!\n",
            "[nltk_data] Downloading package averaged_perceptron_tagger_eng to\n",
            "[nltk_data]     /root/nltk_data...\n",
            "[nltk_data]   Package averaged_perceptron_tagger_eng is already up-to-\n",
            "[nltk_data]       date!\n",
            "[nltk_data] Downloading package punkt_tab to /root/nltk_data...\n",
            "[nltk_data]   Package punkt_tab is already up-to-date!\n"
          ]
        }
      ],
      "source": [
        "import nltk\n",
        "from nltk.corpus import stopwords\n",
        "from nltk.tokenize import word_tokenize\n",
        "import pandas as pd\n",
        "import requests\n",
        "from bs4 import BeautifulSoup\n",
        "try:\n",
        "    import urllib.request as urllib3\n",
        "    #requests.packages.urllib3.contrib.pyopenssl.extract_from_urllib3()\n",
        "except ImportError:\n",
        "    import urllib3\n",
        "import zlib\n",
        "from nltk import Tree\n",
        "import re\n",
        "nltk.download('maxent_treebank_pos_tagger')\n",
        "nltk.download('path')\n",
        "nltk.download('punkt')\n",
        "nltk.download('stopwords')\n",
        "nltk.download('averaged_perceptron_tagger_eng')\n",
        "nltk.download('punkt_tab')\n",
        "\n",
        "years = []\n",
        "for i in range(2000,2100):\n",
        "  years.append(i)\n",
        "unit_conv={\"billion\":1000000000, \"million\":1000000,\"millions\":1000000,\"thousand\":1000,\"%\":0.01,\"percentage\":0.01,\"percent\":0.01,\"\":1,\"basis points\":0.0001,\"bps\":0.0001}\n"
      ]
    },
    {
      "cell_type": "markdown",
      "metadata": {
        "id": "7uL7mmtLP3I0"
      },
      "source": [
        "Functions that should generally stay the same:"
      ]
    },
    {
      "cell_type": "code",
      "execution_count": 86,
      "metadata": {
        "id": "uXtUmNvJP6uI"
      },
      "outputs": [],
      "source": [
        "def extract_soup(url):\n",
        "\n",
        "    hdr = {'User-Agent': 'UbineerCorp info@ubineer.com','Accept-Encoding': 'gzip, deflate','host': 'www.sec.gov'}\n",
        "    s = requests.Session()\n",
        "    s.headers.update(hdr)\n",
        "    data = s.get(url)\n",
        "    s.close()\n",
        "    soup = BeautifulSoup(data.content, features=\"html.parser\")\n",
        "    return(soup)\n",
        "\n",
        "def openBS(html_file):\n",
        "\n",
        "  with open(html_file, encoding = \"ISO-8859-1\") as fp:\n",
        "\n",
        "    soup = BeautifulSoup(fp,'html.parser')\n",
        "\n",
        "  return soup\n",
        "\n",
        "def find_between( s, first, last ):\n",
        "    try:\n",
        "        start = s.index( first ) + len( first )\n",
        "        end = s.index( last, start )\n",
        "        return s[start:end]\n",
        "    except ValueError:\n",
        "        return \"\"\n",
        "\n",
        "def find_between_include(s, first, last, length):\n",
        "    try:\n",
        "        start = s.index( first ) - length\n",
        "        end = s.index( last, start )\n",
        "        return s[start:end]\n",
        "    except ValueError:\n",
        "        return \"\"\n",
        "\n",
        "\n",
        "def unitConversion(insert_lst):\n",
        "  value = None\n",
        "  insert_lst[0] = insert_lst[0].replace('flat','0%')\n",
        "  unit_conv={\"billion\":1000000000,\"million\":1000000,\"thousand\":1000,\"%\":0.01,\"percentage\":0.01,\"percent\":0.01,\"\":1,\"basis points\":0.0001,\"bps\":0.0001}\n",
        "  if len(insert_lst) != 2:\n",
        "\n",
        "    for unit in list(unit_conv.keys()):\n",
        "      if unit == '':\n",
        "        pass\n",
        "      elif unit in insert_lst[0]:\n",
        "        insert_lst = [str(insert_lst[0]).replace(unit,''), unit]\n",
        "\n",
        "\n",
        "\n",
        "  insert_lst[-1] =insert_lst[-1].lower()\n",
        "\n",
        "\n",
        "  insert_lst[0] = str(insert_lst[0]).replace(',','').replace('$','').replace('(','-').replace(')','').replace('%','').strip()\n",
        "  #Andi adds brackets\n",
        "\n",
        "\n",
        "  insert_lst[0] = float(insert_lst[0])\n",
        "\n",
        "  for ele in unit_conv.keys():\n",
        "    #print(ele)\n",
        "    if ele == insert_lst[-1]:\n",
        "      value = insert_lst[0] * unit_conv[ele]\n",
        "      #attempt to fix floating point error\n",
        "      value = round(value,4)\n",
        "    else:\n",
        "      pass\n",
        "  if value == None:\n",
        "    print(\"Value is None: \", insert_lst)\n",
        "  return value\n",
        "\n",
        "def change_pos_tag(tag_sentence,model):\n",
        "    new_tag_lst=[]\n",
        "    for ele in tag_sentence:\n",
        "        if ele[0] in model.keys():\n",
        "            new_tag_lst.append((ele[0],model[ele[0]]))\n",
        "        else:\n",
        "            new_tag_lst.append(ele)\n",
        "    return(new_tag_lst)\n",
        "\n",
        "def listofdict (tree):\n",
        "  # source: https://stackoverflow.com/questions/63945863/converting-nltk-chunks-to-a-list-of-dictionaries\n",
        "  # need helper function to simply put chunks into dictionaries\n",
        "    dlist = []\n",
        "    d = {}\n",
        "    for item in tree:\n",
        "\n",
        "        if isinstance(item, Tree):\n",
        "\n",
        "            d[item.label()] = ' '.join([l[0] for l in item.leaves()])\n",
        "            dlist.append(d) if len(d)>0 else None\n",
        "            d = dict()\n",
        "\n",
        "    dlist.append(d) if len(d)>0 else None\n",
        "    return dlist\n",
        "\n",
        "def find_segment(listofdict):\n",
        "    # helper function\n",
        "    tl = \"Timeline\"\n",
        "    tl_count = 0\n",
        "    segment = 0\n",
        "    for i in range(len(listofdict)):\n",
        "        if tl in listofdict[i].keys():\n",
        "            tl_count +=1\n",
        "            if tl_count == 2:\n",
        "                segment = i\n",
        "                return segment\n",
        "    return len(listofdict)\n",
        "\n",
        "def combine_dict(listofdict):\n",
        "  # merge messy dictionaries from stack overflow function\n",
        "    master_outlook = []\n",
        "\n",
        "    while(len(listofdict) > 0 ):\n",
        "        segment = find_segment(listofdict)\n",
        "\n",
        "        time_dict = {}\n",
        "        for i in range(segment):\n",
        "            time_dict.update(listofdict[i])\n",
        "\n",
        "        listofdict = listofdict[segment:]\n",
        "        master_outlook.append(time_dict)\n",
        "    return master_outlook"
      ]
    },
    {
      "cell_type": "markdown",
      "metadata": {
        "id": "ZYLDuNS4R5j7"
      },
      "source": [
        "Capture guidance function: This function captures all the text in the guidance section of the html file. It should generally stay the same unless the company has a weird format or you need to change out some specific words."
      ]
    },
    {
      "cell_type": "code",
      "execution_count": 87,
      "metadata": {
        "colab": {
          "base_uri": "https://localhost:8080/"
        },
        "id": "2mAk37vqSM-z",
        "outputId": "bc4b20f6-1eb2-49d5-a562-f3bdbdd7e584"
      },
      "outputs": [
        {
          "output_type": "stream",
          "name": "stdout",
          "text": [
            ".Live earnings call at 2pm Pacific Time today•Fiscal second quarter revenue grew 30% year over year to $1.3 billion•Fiscal second quarter billings grew 32% year over year to $1.6 billion•Remaining performance obligation grew 36% year over year to $6.3 billionSANTA CLARA, Calif., Feb. 22, 2022 — Palo Alto Networks (NASDAQ: PANW), the global cybersecurity leader, announced today financial results for its fiscal second quarter 2022, ended January 31, 2022.Total revenue for the fiscal second quarter 2022 grew 30% year over year to $1.3 billion, compared with total revenue of $1.0 billion for the fiscal second quarter 2021. GAAP net loss for the fiscal second quarter 2022 was $93.5 million, or $0.95 per diluted share, compared with GAAP net loss of $142.3 million, or $1.48 per diluted share, for the fiscal second quarter 2021.Non-GAAP net income for the fiscal second quarter 2022 was $185.0 million, or $1.74 per diluted share, compared with non-GAAP net income of $154.2 million, or $1.55 per diluted share, for the fiscal second quarter 2021. A reconciliation between GAAP and non-GAAP information is contained in the tables below.“In Q2, our company continued to benefit from strength across our three security platforms, driven by strong cybersecurity demand, organizations architecting for hybrid work and growing their hyperscale cloud footprints,” said Nikesh Arora, chairman and CEO of Palo Alto Networks. “On the back of this strength, notably in our next-generation security offerings, we are raising our guidance for the year across revenue, billings, and earnings per share.”“Total shareholder return was at the forefront of our Q2 results as we continued to deliver on accelerated revenue growth and strong cash flow generation as well as returned capital to shareholders,” said Dipak Golechha, chief financial officer of Palo Alto Networks. 1\n",
            "•Fiscal second quarter total revenue grows 54 percent year-over-year to $334.7 million•Fiscal second quarter billings grow 62 percent year-over-year to $459.0 million•Fiscal second quarter cash flow from operations grows 100 percent year-over-year to $153.8 million and free cash flow grows 93 percent year-over-year to $136.4 millionSANTA CLARA, Calif., February 25, 2016 - Palo Alto Networks (NYSE: PANW), the next-generation security company, today announced financial results for its fiscal second quarter 2016 ended January 31, 2016.Total revenue for the fiscal second quarter 2016 grew 54 percent year-over-year to a record $334.7 million, compared with total revenue of $217.7 million for the fiscal second quarter 2015. GAAP net loss for the fiscal second quarter 2016 was $62.5 million, or $0.72 per diluted share, compared with GAAP net loss of $43.0 million, or $0.53 per diluted share, for the fiscal second quarter 2015.Non-GAAP net income for the fiscal second quarter 2016 was $36.3 million, or $0.40 per diluted share, compared with non-GAAP net income of $16.9 million, or $0.19 per diluted share, for the fiscal second quarter 2015. A reconciliation between GAAP and non-GAAP information is contained in the tables below.“We reported strong fiscal second quarter results across all metrics, including record revenue of $334.7 million, which increased 54 percent year-over-year. We are proud to now be serving more than 30,000 customers globally who are rapidly adopting the prevention capabilities of our Next-Generation Platform to achieve superior security, simplify their networks and greatly improve total cost of ownership,” said Mark McLaughlin, president and chief executive officer of Palo Alto Networks. “Security is a critical aspect of the digital age and a strategic priority embedded in all technology decisions for enterprises and organizations around the world.”“During the quarter we saw broad adoption of all aspects of our Next-Generation Security Platform with particular strength in our subscription services,” said Steffan Tomlinson, chief financial officer of Palo Alto Networks. “Our results demonstrate our commitment to balancing high growth and profitability as well as the increasing strength in free cash flow from our hybrid-SaaS model.”1Recent Highlights•Partnered with Proofpoint – Palo Alto Networks and Proofpoint teamed up to share intelligence on sophisticated attacks, enabling the creation of automated and coordinated protection across both Palo Alto Networks Next-Generation Security Platform and Proofpoint Targeted Attack Protection and Proofpoint SocialPatrol. Palo Alto Networks WildFire automatically generates new protections and distributes them to all WildFire subscribers globally. •Recognized by J.D. Power and TSIA for exceptional support services – This recognition underscores the exceptional customer support we offer, including new certifications under the esteemed J.D. Power Certified Assisted Technical Support Program and TSIA “Outstanding Worldwide” rating.* •Expanded Common Criteria certifications – Adding to the validation of our products’ security capabilities, these certifications of our newest firewall devices with the latest rigorous National Information Assurance Partnership protection profiles set a consistent confidence bar for government and critical infrastructure customer organizations.•Extended our cloud ecosystem presence – To help organizations seamlessly secure an OpenStack cloud infrastructure with next-generation security, we announced a partnership with Mirantis and made our platform available as a virtual network function within Mirantis OpenStack.•Appointed Frank Calderoni to the Board of Directors – Mr. Calderoni joined our audit committee and brings a wealth of valuable experience cultivated from his previous and current executive and board positions at some of the world’s leading technology companies.\n"
          ]
        },
        {
          "output_type": "execute_result",
          "data": {
            "text/plain": [
              "['.live earnings call at 2pm pacific time today fiscal second quarter revenue grew 30 %  year-over-year to $1.3  billion fiscal second quarter billings grew 32 %  year-over-year to $1.6  billion remaining performance obligation grew 36 %  year-over-year to $6.3  billionsanta clara, calif., feb. 22, 2022 — palo alto networks (nasdaq: panw), the global cybersecurity leader, announced today financial results for its fiscal second quarter 2022, ended january 31, 2022.total revenue for the fiscal second quarter 2022 grew 30 %  year-over-year to $1.3  billion, compared with total revenue of $1.0  billion for the fiscal second quarter 2021. gaap net loss for the fiscal second quarter 2022 was $93.5  million, or $0.95  per diluted share, compared with gaap net loss of $142.3  million, or $1.48  per diluted share, for the fiscal second quarter 2021. non-gaap net income for the fiscal second quarter 2022 was $185.0  million, or $1.74  per diluted share, compared with non-gaap net income of $154.2  million, or $1.55  per diluted share, for the fiscal second quarter 2021. a reconciliation between gaap and non-gaap information is contained in the tables below.“in q2, our company continued to benefit from strength across our three security platforms, driven by strong cybersecurity demand, organizations architecting for hybrid work and growing their hyperscale cloud footprints,” said nikesh arora, chairman and ceo of palo alto networks. “on the back of this strength, notably in our next-generation security offerings, we are raising our guidance for the year across revenue, billings, and earnings per share.”“total shareholder return was at the forefront of our q2 results as we continued to deliver on accelerated revenue growth and strong cash flow generation as well as returned capital to shareholders,” said dipak golechha, chief financial officer of palo alto networks. 1',\n",
              " 'fiscal second quarter total revenue grows 54 percent year-over-year to $334.7  million fiscal second quarter billings grow 62 percent year-over-year to $459.0  million fiscal second quarter cash flow from operations grows 100 percent year-over-year to $153.8  million and free cash flow grows 93 percent year-over-year to $136.4  millionsanta clara, calif., february 25, 2016 - palo alto networks (nyse: panw), the next-generation security company, today announced financial results for its fiscal second quarter 2016 ended january 31, 2016.total revenue for the fiscal second quarter 2016 grew 54 percent year-over-year to a record $334.7  million, compared with total revenue of $217.7  million for the fiscal second quarter 2015. gaap net loss for the fiscal second quarter 2016 was $62.5  million, or $0.72  per diluted share, compared with gaap net loss of $43.0  million, or $0.53  per diluted share, for the fiscal second quarter 2015. non-gaap net income for the fiscal second quarter 2016 was $36.3  million, or $0.40  per diluted share, compared with non-gaap net income of $16.9  million, or $0.19  per diluted share, for the fiscal second quarter 2015. a reconciliation between gaap and non-gaap information is contained in the tables below.“we reported strong fiscal second quarter results across all metrics, including record revenue of $334.7  million, which increased 54 percent year-over-year. we are proud to now be serving more than 30,000 customers globally who are rapidly adopting the prevention capabilities of our next-generation platform to achieve superior security, simplify their networks and greatly improve total cost of ownership,” said mark mclaughlin, president and chief executive officer of palo alto networks. “security is a critical aspect of the digital age and a strategic priority embedded in all technology decisions for enterprises and organizations around the world.”“during the quarter we saw broad adoption of all aspects of our next-generation security platform with particular strength in our subscription services,” said steffan tomlinson, chief financial officer of palo alto networks. “our results demonstrate our commitment to balancing high growth and profitability as well as the increasing strength in free cash flow from our hybrid-saas model.”1recent highlights partnered with proofpoint – palo alto networks and proofpoint teamed up to share intelligence on sophisticated attacks, enabling the creation of automated and coordinated protection across both palo alto networks next-generation security platform and proofpoint targeted attack protection and proofpoint socialpatrol. palo alto networks wildfire automatically generates new protections and distributes them to all wildfire subscribers globally.  recognized by j.d. power and tsia for exceptional support services – this recognition underscores the exceptional customer support we offer, including new certifications under the esteemed j.d. power certified assisted technical support program and tsia “outstanding worldwide” rating.*  expanded common criteria certifications – adding to the validation of our products’ security capabilities, these certifications of our newest firewall devices with the latest rigorous national information assurance partnership protection profiles set a consistent confidence bar for government and critical infrastructure customer organizations. extended our cloud ecosystem presence – to help organizations seamlessly secure an openstack cloud infrastructure with next-generation security, we announced a partnership with mirantis and made our platform available as a virtual network function within mirantis openstack. appointed frank calderoni to the board of directors – mr. calderoni joined our audit committee and brings a wealth of valuable experience cultivated from his previous and current executive and board positions at some of the world’s leading technology companies.']"
            ]
          },
          "metadata": {},
          "execution_count": 87
        }
      ],
      "source": [
        "def captureGuidance(eightK_lst):\n",
        "    guidance_bs4_lst=[]\n",
        "    for ele in eightK_lst:\n",
        "\n",
        "        bs4_8K=extract_soup(ele)\n",
        "        #print(bs4_8K.prettify())\n",
        "        test= bs4_8K.get_text()\n",
        "        #print(len(test))\n",
        "        result = find_between( test,\"Financial Results\" , \"Financial Outlook\" )\n",
        "        print(result)\n",
        "        # if not result: # some companies call outlook guidance\n",
        "        #   result = find_between( test, \"Guidance\", \"Call\")\n",
        "        # elif not result: # pltr is inbetween outlook and earnings webcast\n",
        "        #   result = find_between( test, \"Outlook\", \"Earnings\")\n",
        "\n",
        "\n",
        "        #print(bs4_8K.select(test.name+':contains(\"Financial Outlook\")'))\n",
        "        #print(result)\n",
        "        #print(bs4_8K.find(text=\"Quarterly Conference Call \").previous_element.parent)\n",
        "\n",
        "        result = re.sub(r'(\\d+)-(\\d+)', r'\\1 \\2', result)\n",
        "        result = re.sub(r'(\\$\\d+\\.\\d+)', r'\\1 ', result)\n",
        "        result = re.sub(r'\\b(low|mid|high|single|teens|to)-\\b', r'\\1 ', result)\n",
        "\n",
        "        replace = {'%':' % ','shares':' shares ','.For':' for','outstandingfull':' outstanding full ','20232exhibit':'2023 ','year over year':'year-over-year','millionfor':' million for ','\\n':' ',\n",
        "                '•': ' ','\\xa028':' ','\\xa017':' ','    ':'','◦':' ','million.':' million . ', '\\xa0':' ','%.': ' % .','\\uf0b7':' ','oRevenue':'revenue','oNon-GAAP':'non-gaap','●':' ','.Non-GAAP':'. non-gaap','.Revenues':'. revenues','breakeven':'$0'}\n",
        "        for word in replace:\n",
        "          result = result.replace(word,replace[word])\n",
        "        guidance_bs4_lst.append(result.strip().lower())\n",
        "    return guidance_bs4_lst\n",
        "\n",
        "metrics_data = captureGuidance(metrics_8k)\n",
        "metrics_data\n"
      ]
    },
    {
      "cell_type": "markdown",
      "metadata": {
        "id": "XKO64TKAUZeW"
      },
      "source": [
        "These are the custom chunking model words. This will vary depending on the company, but the core words will stay in here."
      ]
    },
    {
      "cell_type": "code",
      "execution_count": 102,
      "metadata": {
        "id": "_VV97LYlUj8m"
      },
      "outputs": [],
      "source": [
        "model = {'first': 'CD', 'second': 'CD', 'third': 'CD', 'fourth': 'CD', 'total': 'CD', 'expected': 'expected', 'quarter': 'TIME', 'year': 'TIME', 'breakeven': 'CD', 'full':\n",
        "'CD', 'tax': 'tax', 'subscription': 'sub', 'billings': 'bill', 'billion': 'unit', 'revenue': 'rev', 'unit': 'unit', 'full-year': 'TIME', 'fiscal': 'TIME', 'million': 'unit',\n",
        "'share': 'share', 'shares': 'share', 'year-over-year': 'yoy', '%': '%', 'ebitda': 'ebitda', 'loss': 'loss', 'arr': 'arr', 'income': 'income', 'net': 'net', 'revenues': 'rev',\n",
        "'non-gaap': 'non-gaap', 'gaap': 'gaap', 'operating': 'op', 'margin': 'mar', 'services': 'ser', 'adjusted': 'adj', 'negative': 'negative', 'respectively': 'resp', 'basic': 'basic',\n",
        "'q1': 'TIME', 'q2': 'TIME', 'q3': 'TIME', 'q4': 'TIME', 'fy': 'TIME', 'expenses': 'expenses', 'quarter-over-quarter': 'qoq', 'expectation ': 'expect', 'gross': 'gross', 'growth': 'growth',\n",
        "'rate': 'rate', 'operations': 'op', 'operation': 'op', 'cash': 'cash', 'expenditures': 'expenses', 'provision': 'prov', 'thousand': 'unit', 'earning': 'earn', 'taxes': 'tax', 'expense': 'expenses',\n",
        "'interest': 'interest', 'subscriptions': 'sub', 'eps': 'eps', 'compensation': 'comp', 'amortization': 'amort', 'acquisition': 'acq', 'costs': 'cost', 'debt': 'debt', 'assumed': 'ass', 'common': 'com',\n",
        "'dec.': 'month', 'break-even': 'CD', 'free': 'free', 'flow': 'flow', 'annual': 'ann', 'cloud': 'cloud', 'positive': 'pos', 'zero': 'CD', 'comparable': 'comp', 'comp': 'comp', 'return': 'rtn', 'invested': 'inv',\n",
        "'capital': 'cap', 'dividend': 'div', 'payments': 'pay', 'target': 'target', 'consolidated': 'con','percent:%'\n",
        "'repurchases': 'repur', 'repurchase': 'repur','repurchased': 'repur', 'repayments': 'repay', 'maturities': 'matur', 'reduced': 'reduce', 'reducing': 'reduce', 'planned': 'plan', 'percent': '%', 'investments': 'inv',\n",
        "'profit': 'profit', 'low-teens': 'CD', 'fromsource': 'src', 'organic': 'organic', 'expansion': 'growth', 'bps': 'bps', 'increase': 'growth', 'half': 'CD', 'back': 'CD', 'ending': 'end', 'ended': 'end', 'count': 'count',\n",
        "'even': 'CD', 'single': '%', 'percentage': '%', 'low': 'CD', 'mid': 'CD', 'high': 'CD', 'flat': 'CD', 'teens': '%', 'margins': 'mar', 'core': 'core', 'non-u.s.': 'non-gaap', 'outlook': 'outlook', 'â€”': ':', 'homes': 'home',\n",
        "'closed': 'closed', 'end': 'end', 'lower': 'reduce', 'sg': 'sg', 'pre-tax': 'pre-tax', 'increasing': 'growth', 'financial': 'financial', 'roic': 'roic', 'basis': 'basis', 'points': 'points', 'sales': 'sales', 'period': 'period',\n",
        " 'double-digit': 'CD', 'saas': 'saas', 'license': 'license', 'attributable': 'att', 'stockholders':  'stkhdr', 'hardware': 'hardware', 'reduce': 'reduce', 'stock': 'stk', 'restoration': 'restoration', 'continuing': 'continuing',\n",
        " 'intangibles': 'intan', 'non-cash': 'non-cash', 'stock-based': 'stk', 'service': 'ser', 'expectations': 'expect', 'aggregates': 'aggr', 'freight-adjusted': 'frtadj', 'price': 'price',\n",
        "'digit': '%', 'asphalt': 'asphalt', 'concrete': 'concrete', 'calcium': 'calcium', 'sag': 'sag', 'depreciation': 'dpr', 'depletion': 'dpl', 'accretion': 'accr', 'shipment': 'spmt', 'cost': 'cost',\n",
        "'down': 'negative', 'up': 'pos', 'volume': 'vol', 'tons': 'tons', 'spending': 'spend', 'pricing': 'price', 'non-aggregates': 'non-aggr', 'improvement': 'growth', 'improve': 'growth', 'diluted': 'dil', 'earnings': 'earn',\n",
        "'foreign':'foreign','grow:grew' 'finance':'fin','currency':'currency','expect':'expect','marketable':'marketable','securities':'securities','headcount':'headcount', 'ARR' : 'ARR'}\n",
        "\n",
        "model.update({'january': 'month', 'february': 'month', 'march': 'month', 'april': 'month', 'may': 'month', 'june': 'month','july': 'month', 'august': 'month', 'september': 'month', 'october': 'month', 'november': 'month', 'december': 'month'})\n",
        "#meta specific\n",
        "model.update({'ad':'ad','dap':'dap','daus':'daus','map':'map','maus':'maus','impressions':'impr'})"
      ]
    },
    {
      "cell_type": "markdown",
      "metadata": {
        "id": "EYwNsUJA6JlQ"
      },
      "source": [
        "Filter sentence function: Will need to change the stop words depending on the context."
      ]
    },
    {
      "cell_type": "code",
      "execution_count": 99,
      "metadata": {
        "id": "zdLcu4Ft50id"
      },
      "outputs": [],
      "source": [
        "def filter_sent(sentence, model):\n",
        "    custom_stop = [\"approximately\",\"/\", ',','information','available',\"'s\",'follows',':','range','outstanding','respectively','average','basic','weighted-average','representing','weighted','ending','roughly','~','assuming', 'including', 'principal','payments','leases','projected']\n",
        "    stop_words = set(stopwords.words(\"english\"))\n",
        "    filtered_sentence = []\n",
        "    for w in sentence:\n",
        "        if (w not in stop_words and w not in custom_stop) or (w in model.keys()):\n",
        "            filtered_sentence.append(w)\n",
        "    return filtered_sentence"
      ]
    },
    {
      "cell_type": "markdown",
      "metadata": {
        "id": "1SNzMoSe847Z"
      },
      "source": []
    },
    {
      "cell_type": "markdown",
      "metadata": {
        "id": "oY2XKUeNU9Fa"
      },
      "source": [
        "Chunking function: This is the most difficult function to write. Completely depends on the way the company writes their sentences. When writing this function it's best to print(tagged) to see what's being shown. During this stage changes may need to be made to the model and custom stop words, as well as the captureGuidance function."
      ]
    },
    {
      "cell_type": "code",
      "execution_count": 100,
      "metadata": {
        "id": "qXMOa0ujVc66"
      },
      "outputs": [],
      "source": [
        "def metrics_CHUNK(sentence, model):\n",
        "\n",
        "    tagged_raw = nltk.pos_tag(sentence)\n",
        "\n",
        "    tagged = change_pos_tag(tagged_raw,model) #https://www.guru99.com/pos-tagging-chunking-nltk.html\n",
        "    print(tagged)\n",
        "    chunk_rev = r\"\"\"\n",
        "    Timeline: {<TIME><CD><TIME><CD>}\n",
        "    Bill_grow_Dollar: <bill><VBD><CD><%><yoy><\\$>{<CD>}<unit>\n",
        "    Bill_Grow_Per: <bill><VBD>{<CD>}<%>\n",
        "\n",
        "\n",
        "\"\"\"\n",
        "    chunkParserrev = nltk.RegexpParser(chunk_rev)\n",
        "    chunkedrev = chunkParserrev.parse(tagged)\n",
        "\n",
        "\n",
        "    return listofdict(chunkedrev)"
      ]
    },
    {
      "cell_type": "markdown",
      "metadata": {
        "id": "_JdvD40LVpuJ"
      },
      "source": [
        "Outlook function: I don't think this ever changes but I have only done one text company so far so I am including it here: This should end up giving a list of dictionaries that grouped together correctly. Make sure to check that the output is correct."
      ]
    },
    {
      "cell_type": "code",
      "execution_count": 101,
      "metadata": {
        "colab": {
          "base_uri": "https://localhost:8080/"
        },
        "id": "wLqjpDifXIDh",
        "outputId": "1d587116-ff3d-4c8c-90cd-0f2ab2edb875"
      },
      "outputs": [
        {
          "output_type": "stream",
          "name": "stdout",
          "text": [
            "[('.live', 'JJ'), ('earnings', 'earn'), ('call', 'NN'), ('2pm', 'CD'), ('pacific', 'NN'), ('time', 'NN'), ('today', 'NN'), ('fiscal', 'TIME'), ('second', 'CD'), ('quarter', 'TIME'), ('revenue', 'rev'), ('grew', 'VBD'), ('30', 'CD'), ('%', '%'), ('year-over-year', 'yoy'), ('$', '$'), ('1.3', 'CD'), ('billion', 'unit'), ('fiscal', 'TIME'), ('second', 'CD'), ('quarter', 'TIME'), ('billings', 'bill'), ('grew', 'VBD'), ('32', 'CD'), ('%', '%'), ('year-over-year', 'yoy'), ('$', '$'), ('1.6', 'CD'), ('billion', 'unit'), ('remaining', 'VBG'), ('performance', 'NN'), ('obligation', 'NN'), ('grew', 'VBD'), ('36', 'CD'), ('%', '%'), ('year-over-year', 'yoy'), ('$', '$'), ('6.3', 'CD'), ('billionsanta', 'NN'), ('clara', 'NN'), ('calif.', 'VBP'), ('feb.', 'RB'), ('22', 'CD'), ('2022', 'CD'), ('—', 'NN'), ('palo', 'NN'), ('alto', 'NN'), ('networks', 'NNS'), ('(', '('), ('nasdaq', 'JJ'), ('panw', 'NN'), (')', ')'), ('global', 'JJ'), ('cybersecurity', 'NN'), ('leader', 'NN'), ('announced', 'VBD'), ('today', 'NN'), ('financial', 'financial'), ('results', 'NNS'), ('fiscal', 'TIME'), ('second', 'CD'), ('quarter', 'TIME'), ('2022', 'CD'), ('ended', 'end'), ('january', 'month'), ('31', 'CD'), ('2022.total', 'JJ'), ('revenue', 'rev'), ('fiscal', 'TIME'), ('second', 'CD'), ('quarter', 'TIME'), ('2022', 'CD'), ('grew', 'VBD'), ('30', 'CD'), ('%', '%'), ('year-over-year', 'yoy'), ('$', '$'), ('1.3', 'CD'), ('billion', 'unit'), ('compared', 'VBN'), ('total', 'CD'), ('revenue', 'rev'), ('$', '$'), ('1.0', 'CD'), ('billion', 'unit'), ('fiscal', 'TIME'), ('second', 'CD'), ('quarter', 'TIME'), ('2021.', 'CD'), ('gaap', 'gaap'), ('net', 'net'), ('loss', 'loss'), ('fiscal', 'TIME'), ('second', 'CD'), ('quarter', 'TIME'), ('2022', 'CD'), ('$', '$'), ('93.5', 'CD'), ('million', 'unit'), ('$', '$'), ('0.95', 'CD'), ('per', 'IN'), ('diluted', 'dil'), ('share', 'share'), ('compared', 'VBN'), ('gaap', 'gaap'), ('net', 'net'), ('loss', 'loss'), ('$', '$'), ('142.3', 'CD'), ('million', 'unit'), ('$', '$'), ('1.48', 'CD'), ('per', 'IN'), ('diluted', 'dil'), ('share', 'share'), ('fiscal', 'TIME'), ('second', 'CD'), ('quarter', 'TIME'), ('2021.', 'CD'), ('non-gaap', 'non-gaap'), ('net', 'net'), ('income', 'income'), ('fiscal', 'TIME'), ('second', 'CD'), ('quarter', 'TIME'), ('2022', 'CD'), ('$', '$'), ('185.0', 'CD'), ('million', 'unit'), ('$', '$'), ('1.74', 'CD'), ('per', 'IN'), ('diluted', 'dil'), ('share', 'share'), ('compared', 'VBN'), ('non-gaap', 'non-gaap'), ('net', 'net'), ('income', 'income'), ('$', '$'), ('154.2', 'CD'), ('million', 'unit'), ('$', '$'), ('1.55', 'CD'), ('per', 'IN'), ('diluted', 'dil'), ('share', 'share'), ('fiscal', 'TIME'), ('second', 'CD'), ('quarter', 'TIME'), ('2021.', 'CD'), ('reconciliation', 'NN'), ('gaap', 'gaap'), ('non-gaap', 'non-gaap'), ('contained', 'JJ'), ('tables', 'NNS'), ('below.', 'VBP'), ('“', 'JJ'), ('q2', 'TIME'), ('company', 'NN'), ('continued', 'VBD'), ('benefit', 'JJ'), ('strength', 'NN'), ('across', 'IN'), ('three', 'CD'), ('security', 'NN'), ('platforms', 'NNS'), ('driven', 'VBN'), ('strong', 'JJ'), ('cybersecurity', 'NN'), ('demand', 'NN'), ('organizations', 'NNS'), ('architecting', 'VBG'), ('hybrid', 'JJ'), ('work', 'NN'), ('growing', 'VBG'), ('hyperscale', 'JJ'), ('cloud', 'cloud'), ('footprints', 'NNS'), ('”', 'NNP'), ('said', 'VBD'), ('nikesh', 'JJ'), ('arora', 'NN'), ('chairman', 'NN'), ('ceo', 'NN'), ('palo', 'NN'), ('alto', 'NN'), ('networks', 'NNS'), ('.', '.'), ('“', 'VB'), ('back', 'CD'), ('strength', 'NN'), ('notably', 'RB'), ('next-generation', 'JJ'), ('security', 'NN'), ('offerings', 'NNS'), ('raising', 'VBG'), ('guidance', 'NN'), ('year', 'TIME'), ('across', 'IN'), ('revenue', 'rev'), ('billings', 'bill'), ('earnings', 'earn'), ('per', 'IN'), ('share.', 'NN'), ('”', 'NN'), ('“', 'NNP'), ('total', 'CD'), ('shareholder', 'NN'), ('return', 'rtn'), ('forefront', 'JJ'), ('q2', 'TIME'), ('results', 'NNS'), ('continued', 'VBD'), ('deliver', 'RB'), ('accelerated', 'VBN'), ('revenue', 'rev'), ('growth', 'growth'), ('strong', 'JJ'), ('cash', 'cash'), ('flow', 'flow'), ('generation', 'NN'), ('well', 'RB'), ('returned', 'VBN'), ('capital', 'cap'), ('shareholders', 'NNS'), ('”', 'NNP'), ('said', 'VBD'), ('dipak', 'JJ'), ('golechha', 'NN'), ('chief', 'JJ'), ('financial', 'financial'), ('officer', 'NN'), ('palo', 'NN'), ('alto', 'NN'), ('networks', 'NNS'), ('.', '.'), ('1', 'CD')]\n",
            "[('fiscal', 'TIME'), ('second', 'CD'), ('quarter', 'TIME'), ('total', 'CD'), ('revenue', 'rev'), ('grows', 'VBZ'), ('54', 'CD'), ('percent', '%'), ('year-over-year', 'yoy'), ('$', '$'), ('334.7', 'CD'), ('million', 'unit'), ('fiscal', 'TIME'), ('second', 'CD'), ('quarter', 'TIME'), ('billings', 'bill'), ('grow', 'VBP'), ('62', 'CD'), ('percent', '%'), ('year-over-year', 'yoy'), ('$', '$'), ('459.0', 'CD'), ('million', 'unit'), ('fiscal', 'TIME'), ('second', 'CD'), ('quarter', 'TIME'), ('cash', 'cash'), ('flow', 'flow'), ('operations', 'op'), ('grows', 'VBZ'), ('100', 'CD'), ('percent', '%'), ('year-over-year', 'yoy'), ('$', '$'), ('153.8', 'CD'), ('million', 'unit'), ('free', 'free'), ('cash', 'cash'), ('flow', 'flow'), ('grows', 'VBZ'), ('93', 'CD'), ('percent', '%'), ('year-over-year', 'yoy'), ('$', '$'), ('136.4', 'CD'), ('millionsanta', 'NNP'), ('clara', 'NN'), ('calif.', 'NN'), ('february', 'month'), ('25', 'CD'), ('2016', 'CD'), ('-', ':'), ('palo', 'NN'), ('alto', 'NN'), ('networks', 'NNS'), ('(', '('), ('nyse', 'JJ'), ('panw', 'NN'), (')', ')'), ('next-generation', 'NN'), ('security', 'NN'), ('company', 'NN'), ('today', 'NN'), ('announced', 'VBD'), ('financial', 'financial'), ('results', 'NNS'), ('fiscal', 'TIME'), ('second', 'CD'), ('quarter', 'TIME'), ('2016', 'CD'), ('ended', 'end'), ('january', 'month'), ('31', 'CD'), ('2016.total', 'JJ'), ('revenue', 'rev'), ('fiscal', 'TIME'), ('second', 'CD'), ('quarter', 'TIME'), ('2016', 'CD'), ('grew', 'VBD'), ('54', 'CD'), ('percent', '%'), ('year-over-year', 'yoy'), ('record', 'NN'), ('$', '$'), ('334.7', 'CD'), ('million', 'unit'), ('compared', 'VBN'), ('total', 'CD'), ('revenue', 'rev'), ('$', '$'), ('217.7', 'CD'), ('million', 'unit'), ('fiscal', 'TIME'), ('second', 'CD'), ('quarter', 'TIME'), ('2015.', 'CD'), ('gaap', 'gaap'), ('net', 'net'), ('loss', 'loss'), ('fiscal', 'TIME'), ('second', 'CD'), ('quarter', 'TIME'), ('2016', 'CD'), ('$', '$'), ('62.5', 'CD'), ('million', 'unit'), ('$', '$'), ('0.72', 'CD'), ('per', 'IN'), ('diluted', 'dil'), ('share', 'share'), ('compared', 'VBN'), ('gaap', 'gaap'), ('net', 'net'), ('loss', 'loss'), ('$', '$'), ('43.0', 'CD'), ('million', 'unit'), ('$', '$'), ('0.53', 'CD'), ('per', 'IN'), ('diluted', 'dil'), ('share', 'share'), ('fiscal', 'TIME'), ('second', 'CD'), ('quarter', 'TIME'), ('2015.', 'CD'), ('non-gaap', 'non-gaap'), ('net', 'net'), ('income', 'income'), ('fiscal', 'TIME'), ('second', 'CD'), ('quarter', 'TIME'), ('2016', 'CD'), ('$', '$'), ('36.3', 'CD'), ('million', 'unit'), ('$', '$'), ('0.40', 'CD'), ('per', 'IN'), ('diluted', 'dil'), ('share', 'share'), ('compared', 'VBN'), ('non-gaap', 'non-gaap'), ('net', 'net'), ('income', 'income'), ('$', '$'), ('16.9', 'CD'), ('million', 'unit'), ('$', '$'), ('0.19', 'CD'), ('per', 'IN'), ('diluted', 'dil'), ('share', 'share'), ('fiscal', 'TIME'), ('second', 'CD'), ('quarter', 'TIME'), ('2015.', 'CD'), ('reconciliation', 'NN'), ('gaap', 'gaap'), ('non-gaap', 'non-gaap'), ('contained', 'JJ'), ('tables', 'NNS'), ('below.', 'VBP'), ('“', 'RB'), ('reported', 'VBN'), ('strong', 'JJ'), ('fiscal', 'TIME'), ('second', 'CD'), ('quarter', 'TIME'), ('results', 'NNS'), ('across', 'IN'), ('metrics', 'NNS'), ('record', 'NN'), ('revenue', 'rev'), ('$', '$'), ('334.7', 'CD'), ('million', 'unit'), ('increased', 'VBD'), ('54', 'CD'), ('percent', '%'), ('year-over-year', 'yoy'), ('.', '.'), ('proud', 'JJ'), ('serving', 'VBG'), ('30,000', 'CD'), ('customers', 'NNS'), ('globally', 'RB'), ('rapidly', 'RB'), ('adopting', 'VBG'), ('prevention', 'NN'), ('capabilities', 'NNS'), ('next-generation', 'JJ'), ('platform', 'NN'), ('achieve', 'VBP'), ('superior', 'JJ'), ('security', 'NN'), ('simplify', 'NN'), ('networks', 'NNS'), ('greatly', 'RB'), ('improve', 'growth'), ('total', 'CD'), ('cost', 'cost'), ('ownership', 'NN'), ('”', 'NNP'), ('said', 'VBD'), ('mark', 'NNP'), ('mclaughlin', 'NNP'), ('president', 'NN'), ('chief', 'JJ'), ('executive', 'JJ'), ('officer', 'NN'), ('palo', 'NN'), ('alto', 'NN'), ('networks', 'NNS'), ('.', '.'), ('“', 'JJ'), ('security', 'NN'), ('critical', 'JJ'), ('aspect', 'NN'), ('digital', 'JJ'), ('age', 'NN'), ('strategic', 'JJ'), ('priority', 'NN'), ('embedded', 'VBD'), ('technology', 'NN'), ('decisions', 'NNS'), ('enterprises', 'VBP'), ('organizations', 'NNS'), ('around', 'IN'), ('world.', 'JJ'), ('”', 'NNP'), ('“', 'NNP'), ('quarter', 'TIME'), ('saw', 'VBD'), ('broad', 'JJ'), ('adoption', 'NN'), ('aspects', 'NNS'), ('next-generation', 'JJ'), ('security', 'NN'), ('platform', 'NN'), ('particular', 'JJ'), ('strength', 'NN'), ('subscription', 'sub'), ('services', 'ser'), ('”', 'NNP'), ('said', 'VBD'), ('steffan', 'NN'), ('tomlinson', 'NN'), ('chief', 'JJ'), ('financial', 'financial'), ('officer', 'NN'), ('palo', 'NN'), ('alto', 'NN'), ('networks', 'NNS'), ('.', '.'), ('“', 'JJ'), ('results', 'NNS'), ('demonstrate', 'JJ'), ('commitment', 'JJ'), ('balancing', 'VBG'), ('high', 'CD'), ('growth', 'growth'), ('profitability', 'NN'), ('well', 'RB'), ('increasing', 'growth'), ('strength', 'NN'), ('free', 'free'), ('cash', 'cash'), ('flow', 'flow'), ('hybrid-saas', 'JJ'), ('model.', 'NN'), ('”', '$'), ('1recent', 'CD'), ('highlights', 'NNS'), ('partnered', 'VBD'), ('proofpoint', 'NN'), ('–', 'NN'), ('palo', 'NN'), ('alto', 'NN'), ('networks', 'NNS'), ('proofpoint', 'NN'), ('teamed', 'VBD'), ('up', 'pos'), ('share', 'share'), ('intelligence', 'NN'), ('sophisticated', 'VBD'), ('attacks', 'NNS'), ('enabling', 'VBG'), ('creation', 'NN'), ('automated', 'VBD'), ('coordinated', 'JJ'), ('protection', 'NN'), ('across', 'IN'), ('palo', 'NN'), ('alto', 'NN'), ('networks', 'NNS'), ('next-generation', 'JJ'), ('security', 'NN'), ('platform', 'NN'), ('proofpoint', 'NN'), ('targeted', 'VBD'), ('attack', 'NN'), ('protection', 'NN'), ('proofpoint', 'NN'), ('socialpatrol', 'NN'), ('.', '.'), ('palo', 'NN'), ('alto', 'NN'), ('networks', 'NNS'), ('wildfire', 'VBP'), ('automatically', 'RB'), ('generates', 'VBZ'), ('new', 'JJ'), ('protections', 'NNS'), ('distributes', 'VBZ'), ('wildfire', 'VBP'), ('subscribers', 'NNS'), ('globally', 'RB'), ('.', '.'), ('recognized', 'VBN'), ('j.d', 'NN'), ('.', '.'), ('power', 'NN'), ('tsia', 'IN'), ('exceptional', 'JJ'), ('support', 'NN'), ('services', 'ser'), ('–', 'VBP'), ('recognition', 'NN'), ('underscores', 'NNS'), ('exceptional', 'JJ'), ('customer', 'NN'), ('support', 'NN'), ('offer', 'VBP'), ('new', 'JJ'), ('certifications', 'NNS'), ('esteemed', 'VBN'), ('j.d', 'NN'), ('.', '.'), ('power', 'NN'), ('certified', 'VBD'), ('assisted', 'JJ'), ('technical', 'JJ'), ('support', 'NN'), ('program', 'NN'), ('tsia', 'NN'), ('“', 'NNP'), ('worldwide', 'NN'), ('”', 'NN'), ('rating', 'NN'), ('.', '.'), ('*', 'VB'), ('expanded', 'JJ'), ('common', 'com'), ('criteria', 'NNS'), ('certifications', 'NNS'), ('–', 'VBP'), ('adding', 'VBG'), ('validation', 'NN'), ('products', 'NNS'), ('’', 'JJ'), ('security', 'NN'), ('capabilities', 'NNS'), ('certifications', 'NNS'), ('newest', 'JJS'), ('firewall', 'NN'), ('devices', 'NNS'), ('latest', 'JJS'), ('rigorous', 'JJ'), ('national', 'JJ'), ('assurance', 'NN'), ('partnership', 'NN'), ('protection', 'NN'), ('profiles', 'NNS'), ('set', 'VBN'), ('consistent', 'JJ'), ('confidence', 'NN'), ('bar', 'NN'), ('government', 'NN'), ('critical', 'JJ'), ('infrastructure', 'NN'), ('customer', 'NN'), ('organizations', 'NNS'), ('.', '.'), ('extended', 'VBN'), ('cloud', 'cloud'), ('ecosystem', 'NN'), ('presence', 'NN'), ('–', 'NNP'), ('help', 'NN'), ('organizations', 'NNS'), ('seamlessly', 'RB'), ('secure', 'VBP'), ('openstack', 'JJ'), ('cloud', 'cloud'), ('infrastructure', 'NN'), ('next-generation', 'JJ'), ('security', 'NN'), ('announced', 'VBD'), ('partnership', 'NN'), ('mirantis', 'NN'), ('made', 'VBD'), ('platform', 'NN'), ('virtual', 'JJ'), ('network', 'NN'), ('function', 'NN'), ('within', 'IN'), ('mirantis', 'NN'), ('openstack', 'NN'), ('.', '.'), ('appointed', 'VBN'), ('frank', 'JJ'), ('calderoni', 'NNS'), ('board', 'NN'), ('directors', 'NNS'), ('–', 'VBP'), ('mr.', 'JJ'), ('calderoni', 'NN'), ('joined', 'VBD'), ('audit', 'JJ'), ('committee', 'NN'), ('brings', 'VBZ'), ('wealth', 'RBR'), ('valuable', 'JJ'), ('experience', 'NN'), ('cultivated', 'VBD'), ('previous', 'JJ'), ('current', 'JJ'), ('executive', 'NN'), ('board', 'NN'), ('positions', 'NNS'), ('world', 'NN'), ('’', 'VBP'), ('leading', 'VBG'), ('technology', 'NN'), ('companies', 'NNS'), ('.', '.')]\n"
          ]
        },
        {
          "output_type": "execute_result",
          "data": {
            "text/plain": [
              "[{'Bill_Grow_Per': '32',\n",
              "  'Bill_grow_Dollar': '1.6',\n",
              "  'Timeline': 'fiscal second quarter 2022'},\n",
              " {'Timeline': 'fiscal second quarter 2022'},\n",
              " {'Timeline': 'fiscal second quarter 2021.'},\n",
              " {'Timeline': 'fiscal second quarter 2022'},\n",
              " {'Timeline': 'fiscal second quarter 2021.'},\n",
              " {'Timeline': 'fiscal second quarter 2022'},\n",
              " {'Timeline': 'fiscal second quarter 2021.'},\n",
              " {'Timeline': 'fiscal second quarter total'},\n",
              " {'Timeline': 'fiscal second quarter 2016'},\n",
              " {'Timeline': 'fiscal second quarter 2016'},\n",
              " {'Timeline': 'fiscal second quarter 2015.'},\n",
              " {'Timeline': 'fiscal second quarter 2016'},\n",
              " {'Timeline': 'fiscal second quarter 2015.'},\n",
              " {'Timeline': 'fiscal second quarter 2016'},\n",
              " {'Timeline': 'fiscal second quarter 2015.'}]"
            ]
          },
          "metadata": {},
          "execution_count": 101
        }
      ],
      "source": [
        "\n",
        "def metrics_info(data):\n",
        "    Total_Outlook = []\n",
        "    for i in range(len(data)):\n",
        "        if data[i] != '':\n",
        "            list_dict_chunks = metrics_CHUNK(filter_sent(word_tokenize((data[i])),model),model)\n",
        "            Total_Outlook.extend(combine_dict(list_dict_chunks))\n",
        "\n",
        "    return Total_Outlook\n",
        "\n",
        "raw_info = metrics_info(metrics_data)\n",
        "raw_info\n",
        "\n"
      ]
    },
    {
      "cell_type": "markdown",
      "metadata": {
        "id": "zMWaigutXgJl"
      },
      "source": [
        "Process function: Once all the data is in the correct dictionary, it needs to go through this process function to extract specifically the numbers. Uses the unitConversion function that's defined higher up"
      ]
    },
    {
      "cell_type": "code",
      "execution_count": 92,
      "metadata": {
        "id": "R9-iYKOCYKXG"
      },
      "outputs": [],
      "source": [
        "def process(raw_info_dict): #If you ever find an error with this function let @Maxime know ASAP\n",
        "    temp_dict = {}\n",
        "    if \"Drop\" in raw_info_dict.keys():\n",
        "      raw_info_dict.pop(\"Drop\")\n",
        "\n",
        "    if len(raw_info_dict)>1:\n",
        "        temp_dict = {}\n",
        "        temp_dict[\"Timeline\"] = raw_info_dict[\"Timeline\"]\n",
        "\n",
        "        for key, value in raw_info_dict.items():\n",
        "          value = value.replace(\"low teens\", \"11 % 13 %\")\n",
        "          value = value.replace(\"high teens\",\"17 % 19 %\" )\n",
        "          value = value.replace(\"mid teens\", \"14 % 16 %\")\n",
        "          value = re.sub(r'(\\d+)-(\\d+)', r'\\1 \\2', value)#remove dash between two numbers\n",
        "          arr = value.split()\n",
        "          prefix = 1\n",
        "          vals = []\n",
        "          if (len(arr) == 0 or key==\"Timeline\"):\n",
        "            continue\n",
        "          conversions = [] #case where there are multiple conversions in the same captured data\n",
        "          conversion = ''\n",
        "          #Find unit conversion\n",
        "          for i, elem in enumerate(arr):\n",
        "            if elem == 'breakeven' or elem == 'break-even' or elem == 'zero': #replace words meaning 0\n",
        "              arr[i] = '0'\n",
        "            if elem in unit_conv.keys():\n",
        "              conversion = elem\n",
        "              conversions.append(conversion)\n",
        "          # Check if unit conversion is in key\n",
        "          if conversion == '':\n",
        "            for word in key.split():\n",
        "              if word.replace(\"(\",\"\").replace(\")\",\"\") in unit_conv.keys(): #Replace unit conversion in key, ie. if key is \"Revenue (in millions)\", it should be \"Revenue\"\n",
        "                conversion = word.replace(\"(\",\"\").replace(\")\",\"\")\n",
        "                conversions.append(conversion)\n",
        "\n",
        "          if len(conversions) == 0:\n",
        "            conversions.append('')\n",
        "\n",
        "          if len(set(conversions)) > 1:\n",
        "            multi = True\n",
        "          else:\n",
        "            multi = False\n",
        "\n",
        "          # regex finds () and [] brackets\n",
        "          key = re.sub(\"\\(.*?\\)|\\[.*?\\]\",\"\", key)\n",
        "          #Check if numbers should be negative\n",
        "          if (\"loss\" in arr) or (\"negative\" in arr) or (\"decrease\" in arr):\n",
        "            prefix = -1\n",
        "          conv_num = 0\n",
        "          #Find values (should be 1 or 2)\n",
        "\n",
        "\n",
        "          # IMPROVED HANDLING OF NEGATIVE AND POSITIVE VALS IN SAME CHUNK - by Jack Li\n",
        "          ignore_set = ['$']\n",
        "          switch = False\n",
        "          negative = False\n",
        "          state = 0\n",
        "          for elem in arr:\n",
        "            if \"(\" in elem and state == 0:\n",
        "              state = 1\n",
        "            if (elem.replace(\".\",\"\").replace(\",\",\"\").replace(\"$\",\"\").replace('(','').replace(')','').replace('%','').isdigit() and state == 1) or (elem == 'loss' and state == 1):\n",
        "              state = 2\n",
        "            if \")\" in elem and state == 1:\n",
        "              state = 0\n",
        "            if \")\" in elem and state == 2:\n",
        "              switch = True\n",
        "              break\n",
        "\n",
        "          pos_search = False\n",
        "\n",
        "          if switch is False:\n",
        "            for elem in arr:\n",
        "              if elem == 'positive':\n",
        "                pos_search = True\n",
        "                continue\n",
        "              if pos_search:\n",
        "                if (not elem.replace(\".\",\"\").replace(\",\",\"\").replace(\"$\",\"\").replace('(','').replace(')','').replace('%','').replace('-','').replace('~','').isdigit()) and (elem not in ignore_set):\n",
        "                  pos_search = False\n",
        "\n",
        "              if elem.replace(\".\",\"\").replace(\",\",\"\").replace(\"$\",\"\").replace('(','').replace(')','').replace('%','').replace('-','').replace('~','').isdigit():\n",
        "                if pos_search:\n",
        "                  vals.append(unitConversion([elem, conversions[conv_num]]))\n",
        "                  if multi: conv_num += 1\n",
        "                  pos_search = False\n",
        "                else:\n",
        "                  vals.append(unitConversion([elem, conversions[conv_num]])*prefix)\n",
        "                  if multi: conv_num += 1\n",
        "          else:\n",
        "            for elem in arr:\n",
        "              if \"(\" in elem:\n",
        "                negative = True\n",
        "              if \")\" in elem:\n",
        "                negative = False\n",
        "              if elem.replace(\".\",\"\").replace(\",\",\"\").replace(\"$\",\"\").replace('(','').replace(')','').replace('%','').replace('-','').replace('~','').isdigit():\n",
        "                if (negative):\n",
        "                  vals.append(unitConversion([elem, conversions[conv_num]])*-1)\n",
        "                  if multi: conv_num += 1\n",
        "                else:\n",
        "                  vals.append(unitConversion([elem, conversions[conv_num]]))\n",
        "                  if multi: conv_num += 1\n",
        "\n",
        "          if max(vals)-min(vals) > 100 * unit_conv[conversion]:\n",
        "            for val in vals:\n",
        "              if val/unit_conv[conversion] in years:\n",
        "                  vals.remove(val)\n",
        "                  break\n",
        "\n",
        "          temp_dict[key] = max(vals)\n",
        "          #temp_dict[key+\" Lower\"] = min(vals)\n",
        "\n",
        "    return temp_dict"
      ]
    },
    {
      "cell_type": "markdown",
      "metadata": {
        "id": "mcaAD-3fZlbM"
      },
      "source": [
        ",,,,,n    ggClean function calls process on each dictionary in the list and returns a list of dictionaries where just the value is shown"
      ]
    },
    {
      "cell_type": "code",
      "execution_count": 93,
      "metadata": {
        "colab": {
          "base_uri": "https://localhost:8080/"
        },
        "id": "I7Cla6fCZhJ3",
        "outputId": "65f1fa11-22b5-40e9-e630-6b6d18160fcd"
      },
      "outputs": [
        {
          "output_type": "execute_result",
          "data": {
            "text/plain": [
              "[{'Timeline': 'fiscal second quarter 2022',\n",
              "  'Bill_Grow_Per': 32.0,\n",
              "  'Bill_grow_Dollar': 1.6}]"
            ]
          },
          "metadata": {},
          "execution_count": 93
        }
      ],
      "source": [
        "def clean(raw_info):\n",
        "    Outlook = []\n",
        "    for i in range(len(raw_info)):\n",
        "        if process(raw_info[i]) != None:\n",
        "            Outlook.append(process(raw_info[i]))\n",
        "    return Outlook\n",
        "\n",
        "data = clean(raw_info)\n",
        "\n",
        "cleaned_data = [i for i in data if len(i)>1]\n",
        "cleaned_data"
      ]
    },
    {
      "cell_type": "code",
      "execution_count": null,
      "metadata": {
        "id": "RuYcKJgyyDrm"
      },
      "outputs": [],
      "source": []
    }
  ],
  "metadata": {
    "colab": {
      "provenance": [],
      "include_colab_link": true
    },
    "kernelspec": {
      "display_name": "Python 3",
      "name": "python3"
    },
    "language_info": {
      "name": "python"
    }
  },
  "nbformat": 4,
  "nbformat_minor": 0
}